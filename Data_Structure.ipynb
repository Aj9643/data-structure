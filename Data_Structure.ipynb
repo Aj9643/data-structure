{
  "nbformat": 4,
  "nbformat_minor": 0,
  "metadata": {
    "colab": {
      "provenance": []
    },
    "kernelspec": {
      "name": "python3",
      "display_name": "Python 3"
    },
    "language_info": {
      "name": "python"
    }
  },
  "cells": [
    {
      "cell_type": "markdown",
      "source": [
        "#Theory\n",
        "\n",
        "1 What are data structures, and why are they important?\n",
        "- it is way to organise storing data so that computer can modify it. it is importand because we can store data in it as string, number, decimal etc\n",
        "\n",
        "2. Explain the difference between mutable and immutable data types with examples?\n",
        "- mutable those data structure which can be changed example list\n",
        "- immutable those data structure which can't be changed example tupple, string\n",
        "\n",
        "3. What are the main differences between lists and tuples in Python?\n",
        "- list is mutable and tuple are immutable\n",
        "\n",
        "4. Describe how dictionaries store data?\n",
        "- Dictionaries store data in key : value form\n",
        "\n",
        "5. Why might you use a set instead of a list in Python?\n",
        "- set automatically remove duplicates and it is bit faster than list.\n",
        "\n",
        "6. What is a string in Python, and how is it different from a list?\n",
        "- string are immutable normal text line name , any identy which write in form of \"string\"\n",
        "and it if different from list because many string, numbers, boolean, float make list.\n",
        "\n",
        "7. How do tuples ensure data integrity in Python?\n",
        "- Tuples are immutable, so once defined, their content cannot be changed.\n",
        "\n",
        "8. What is a hash table, and how does it relate to dictionaries in Python?\n",
        "- it helps to connect key with values dictionaries implemented hash tables.\n",
        "\n",
        "9.  Can lists contain different data types?\n",
        "- yes, it can contain float, string, bullean\n",
        "\n",
        "10. Why are strings immutable in Python?\n",
        "- to ensure memory efficiency.\n",
        "\n",
        "11. Advantages of dictionaries over lists?\n",
        "- dictionary have key and value pair\n",
        "- better arangement of data\n",
        "\n",
        "12. When to prefer a tuple over a list?\n",
        "- when we need immutable data like client id or patient name.\n",
        "\n",
        "13. How sets handle duplicates?\n",
        "- Sets automatically discard duplicates.\n",
        "\n",
        "14. 14. How “in” keyword works for lists vs dictionaries?\n",
        "- in lint values\n",
        "- in dictionary keys\n",
        "\n",
        "15. Can you modify tuple elements?\n",
        "- No. Tuples are immutable.\n",
        "\n",
        "16.  What is a nested dictionary (with example)?\n",
        "- A dictionary within another dictionary.\n",
        "stalf = {\"abhishek\":{\"age\":25, \"weight\":79}}\n",
        "\n",
        "17. Time complexity of accessing elements in a dictionary?\n",
        "- no complexicity\n",
        "\n",
        "18. When are lists preferred over dictionaries?\n",
        "- when data is simple\n",
        "- values not labeled\n",
        "\n",
        "19. Why are dictionaries considered unordered (until Python 3.6+)?\n",
        "- Because traditional dicts didn’t preserve insertion order. Now they do, but retrieval is still key-based.\n",
        "\n",
        "20. List vs Dictionary in data retrieval?\n",
        "- list data in form of values\n",
        "- dictionary in form of keys\n"
      ],
      "metadata": {
        "id": "5e7SdGnasVx1"
      }
    },
    {
      "cell_type": "markdown",
      "source": [
        "# practical questions\n"
      ],
      "metadata": {
        "id": "CYB-Y1E5siOt"
      }
    },
    {
      "cell_type": "code",
      "source": [
        "# Create a string with your name and print it?\n",
        "\n",
        "Name = \"Abhishek Jayant\"\n",
        "print(Name)"
      ],
      "metadata": {
        "colab": {
          "base_uri": "https://localhost:8080/"
        },
        "id": "Udp7zuO8ntQb",
        "outputId": "1368664e-99e2-4c1e-e7da-0863a0b10571"
      },
      "execution_count": 2,
      "outputs": [
        {
          "output_type": "stream",
          "name": "stdout",
          "text": [
            "Abhishek Jayant\n"
          ]
        }
      ]
    },
    {
      "cell_type": "code",
      "source": [
        "#Find length of the string \"Hello World\"?\n",
        "\n",
        "word=\"hello world!\"\n",
        "length=len(word)\n",
        "print(length)"
      ],
      "metadata": {
        "colab": {
          "base_uri": "https://localhost:8080/"
        },
        "id": "1lA_mCIQn7JD",
        "outputId": "72757caf-d4d1-4301-f365-b334494263f1"
      },
      "execution_count": 4,
      "outputs": [
        {
          "output_type": "stream",
          "name": "stdout",
          "text": [
            "12\n"
          ]
        }
      ]
    },
    {
      "cell_type": "code",
      "source": [
        "# Slice first 3 characters from \"Python Programming\"\n",
        "\n",
        "s= \"Python Programming\"\n",
        "print(s[0:3])"
      ],
      "metadata": {
        "colab": {
          "base_uri": "https://localhost:8080/"
        },
        "id": "hEtP3RvQoWd6",
        "outputId": "7769b133-f54f-428a-b4b0-25b01784f0c6"
      },
      "execution_count": 5,
      "outputs": [
        {
          "output_type": "stream",
          "name": "stdout",
          "text": [
            "Pyt\n"
          ]
        }
      ]
    },
    {
      "cell_type": "code",
      "source": [
        "#Convert \"hello\" to uppercase?\n",
        "\n",
        "A = \"hello\"\n",
        "print(A.upper())"
      ],
      "metadata": {
        "colab": {
          "base_uri": "https://localhost:8080/"
        },
        "id": "Nt6ZoNjdoub3",
        "outputId": "aec76141-2b9c-4440-b1ae-69156520988e"
      },
      "execution_count": 8,
      "outputs": [
        {
          "output_type": "stream",
          "name": "stdout",
          "text": [
            "HELLO\n"
          ]
        }
      ]
    },
    {
      "cell_type": "code",
      "source": [
        "#Replace \"apple\" with \"orange\"?\n",
        "\n",
        "word = \"i love apple\"\n",
        "word = word.replace(\"apple\", \"orange\")\n",
        "print(word)"
      ],
      "metadata": {
        "colab": {
          "base_uri": "https://localhost:8080/"
        },
        "id": "TNEVaQvYo7pC",
        "outputId": "3fc6d63a-1d29-41b9-8c17-cda8680ceac4"
      },
      "execution_count": 9,
      "outputs": [
        {
          "output_type": "stream",
          "name": "stdout",
          "text": [
            "i love orange\n"
          ]
        }
      ]
    },
    {
      "cell_type": "code",
      "source": [
        "#  Create a list with numbers 1 to 5 and print?\n",
        "numb = [1, 2, 3, 4, 5]\n",
        "print(numb)"
      ],
      "metadata": {
        "colab": {
          "base_uri": "https://localhost:8080/"
        },
        "id": "hS64qgwkpgSi",
        "outputId": "d62474bb-570d-4019-c828-b4e4a276b63c"
      },
      "execution_count": 11,
      "outputs": [
        {
          "output_type": "stream",
          "name": "stdout",
          "text": [
            "[1, 2, 3, 4, 5]\n"
          ]
        }
      ]
    },
    {
      "cell_type": "code",
      "source": [
        "# Append 10 to [1, 2, 3, 4]\n",
        "num = [1, 2, 3, 4 ]\n",
        "A = num.append(10)\n",
        "print(num)"
      ],
      "metadata": {
        "colab": {
          "base_uri": "https://localhost:8080/"
        },
        "id": "wSVf99rPpveq",
        "outputId": "9aeafac6-e0ac-4d5c-a44d-cfc870ce4f74"
      },
      "execution_count": 19,
      "outputs": [
        {
          "output_type": "stream",
          "name": "stdout",
          "text": [
            "[1, 2, 3, 4, 10]\n"
          ]
        }
      ]
    },
    {
      "cell_type": "code",
      "source": [
        "#Remove 3 from [1, 2, 3, 4, 5]?\n",
        "num = [1, 2, 3, 4, 5]\n",
        "num.remove(3)\n",
        "print(num)"
      ],
      "metadata": {
        "colab": {
          "base_uri": "https://localhost:8080/"
        },
        "id": "iSkltwErqAex",
        "outputId": "c87b118a-e469-42bb-86d4-96d43697fb72"
      },
      "execution_count": 20,
      "outputs": [
        {
          "output_type": "stream",
          "name": "stdout",
          "text": [
            "[1, 2, 4, 5]\n"
          ]
        }
      ]
    },
    {
      "cell_type": "code",
      "source": [
        "# Access the second element in ['a', 'b', 'c', 'd']?\n",
        "\n",
        "Abhi = ['a', 'b', 'c', 'd']\n",
        "print(Abhi[1])"
      ],
      "metadata": {
        "colab": {
          "base_uri": "https://localhost:8080/"
        },
        "id": "pujJUGnvqvWd",
        "outputId": "89d6c44b-7498-4d3a-dbed-4f570e1732f4"
      },
      "execution_count": 21,
      "outputs": [
        {
          "output_type": "stream",
          "name": "stdout",
          "text": [
            "b\n"
          ]
        }
      ]
    },
    {
      "cell_type": "code",
      "source": [
        "#Reverse the list [10, 20, 30, 40, 50]\n",
        "\n",
        "list_abhi = [10, 20, 30, 40, 50]\n",
        "list_abhi.reverse()\n",
        "print(list_abhi)"
      ],
      "metadata": {
        "colab": {
          "base_uri": "https://localhost:8080/"
        },
        "id": "hauI-_OlrIuJ",
        "outputId": "eefc6ced-e0ba-4e8a-91cb-e8f3ec8dee5d"
      },
      "execution_count": 28,
      "outputs": [
        {
          "output_type": "stream",
          "name": "stdout",
          "text": [
            "[50, 40, 30, 20, 10]\n"
          ]
        }
      ]
    },
    {
      "cell_type": "code",
      "source": [
        "# Create a tuple with the elements 100, 200, 300?\n",
        "my_tuple = (100, 200, 300)\n",
        "print(my_tuple)"
      ],
      "metadata": {
        "colab": {
          "base_uri": "https://localhost:8080/"
        },
        "id": "fRTYHUMzrp98",
        "outputId": "99137322-eeab-4e7a-9e08-15277e3dd059"
      },
      "execution_count": 29,
      "outputs": [
        {
          "output_type": "stream",
          "name": "stdout",
          "text": [
            "(100, 200, 300)\n"
          ]
        }
      ]
    },
    {
      "cell_type": "code",
      "source": [
        "#Access the second-to-last element of the tuple ('red', 'green', 'blue', 'yellow')?\n",
        "\n",
        "A = ('red' , 'green', 'blue', 'yellow')\n",
        "print(A[-2])"
      ],
      "metadata": {
        "colab": {
          "base_uri": "https://localhost:8080/"
        },
        "id": "qdO_I_1psGHQ",
        "outputId": "9f8991c6-0d0a-4238-8157-7c74795cd23c"
      },
      "execution_count": 32,
      "outputs": [
        {
          "output_type": "stream",
          "name": "stdout",
          "text": [
            "blue\n"
          ]
        }
      ]
    },
    {
      "cell_type": "code",
      "source": [
        "#Find the minimum number in the tuple (10, 20, 5, 15)?\n",
        "ab = (10, 20, 5, 15)\n",
        "print(min(ab))"
      ],
      "metadata": {
        "colab": {
          "base_uri": "https://localhost:8080/"
        },
        "id": "wgBycnjesXRf",
        "outputId": "94e231d3-f3d5-4016-9245-6df796f76fe7"
      },
      "execution_count": 33,
      "outputs": [
        {
          "output_type": "stream",
          "name": "stdout",
          "text": [
            "5\n"
          ]
        }
      ]
    },
    {
      "cell_type": "code",
      "source": [
        "# Find the index of \"cat\" in the tuple ('dog', 'cat', 'rabbit')?\n",
        "\n",
        "animal= ('dog', 'cat', 'rabbit')\n",
        "print(animal.index(\"cat\"))"
      ],
      "metadata": {
        "colab": {
          "base_uri": "https://localhost:8080/"
        },
        "id": "DxMJa8Casqsc",
        "outputId": "a2f39c2a-ec64-4cbb-d864-effb162314a4"
      },
      "execution_count": 35,
      "outputs": [
        {
          "output_type": "stream",
          "name": "stdout",
          "text": [
            "1\n"
          ]
        }
      ]
    },
    {
      "cell_type": "code",
      "source": [
        "# Create a tuple with 3 fruits and check if \"kiwi\" is in it?\n",
        "\n",
        "fruit = ('apple', 'banana', 'mango')\n",
        "print( \"kiwi\" in fruit)"
      ],
      "metadata": {
        "colab": {
          "base_uri": "https://localhost:8080/"
        },
        "id": "i9ay3rvbx12U",
        "outputId": "ccdc58c8-ed57-42dd-a4e9-7c7a2a74bb6a"
      },
      "execution_count": 38,
      "outputs": [
        {
          "output_type": "stream",
          "name": "stdout",
          "text": [
            "False\n"
          ]
        }
      ]
    },
    {
      "cell_type": "code",
      "source": [
        "# Create a set with 'a', 'b', 'c' and print it?\n",
        "sets = {'a', 'b', 'c'}\n",
        "print(sets)"
      ],
      "metadata": {
        "colab": {
          "base_uri": "https://localhost:8080/"
        },
        "id": "nGeBoyOKyWp_",
        "outputId": "462573e7-2a84-4abb-9ea7-3045777e4710"
      },
      "execution_count": 43,
      "outputs": [
        {
          "output_type": "stream",
          "name": "stdout",
          "text": [
            "{'c', 'b', 'a'}\n"
          ]
        }
      ]
    },
    {
      "cell_type": "code",
      "source": [
        "# Clear all elements from the set {1, 2, 3, 4, 5}?\n",
        "Sets = {1, 2, 3, 4, 5}\n",
        "Sets.clear()\n",
        "print(Sets)"
      ],
      "metadata": {
        "colab": {
          "base_uri": "https://localhost:8080/"
        },
        "id": "C-R_RuZqy8F3",
        "outputId": "b3e0b8be-c3a1-4e66-9ab8-4c79f6b92928"
      },
      "execution_count": 46,
      "outputs": [
        {
          "output_type": "stream",
          "name": "stdout",
          "text": [
            "set()\n"
          ]
        }
      ]
    },
    {
      "cell_type": "code",
      "source": [
        "# Remove 4 from the set {1, 2, 3, 4}?\n",
        "Sets = {1, 2, 3, 4}\n",
        "Sets.remove(4)\n",
        "print(Sets)"
      ],
      "metadata": {
        "colab": {
          "base_uri": "https://localhost:8080/"
        },
        "id": "zkTUa5F9zOiz",
        "outputId": "d9584fc1-404d-4d6e-b0ad-cb78ac0570fe"
      },
      "execution_count": 47,
      "outputs": [
        {
          "output_type": "stream",
          "name": "stdout",
          "text": [
            "{1, 2, 3}\n"
          ]
        }
      ]
    },
    {
      "cell_type": "code",
      "source": [
        "# Find the union of {1, 2, 3} and {3, 4, 5}\n",
        "\n",
        "set1 = {1,2,32}\n",
        "set2 = {3,5,9}\n",
        "A= set1.union(set2)\n",
        "print(A)"
      ],
      "metadata": {
        "colab": {
          "base_uri": "https://localhost:8080/"
        },
        "id": "H-En9vj0zjur",
        "outputId": "d3511868-7bd7-48ce-bb80-18f48dfb09ee"
      },
      "execution_count": 50,
      "outputs": [
        {
          "output_type": "stream",
          "name": "stdout",
          "text": [
            "{32, 1, 2, 3, 5, 9}\n"
          ]
        }
      ]
    },
    {
      "cell_type": "code",
      "source": [
        "# Find the intersection of {1, 2, 3} and {2, 3, 4}?\n",
        "\n",
        "sets1 = {1,2,3}\n",
        "sets2 = {2,3,4}\n",
        "print(sets1.intersection(sets2))\n"
      ],
      "metadata": {
        "colab": {
          "base_uri": "https://localhost:8080/"
        },
        "id": "4OE5YO0AzsUP",
        "outputId": "5538eaa7-e8e3-42bd-f7e1-7f0f12642cc4"
      },
      "execution_count": 52,
      "outputs": [
        {
          "output_type": "stream",
          "name": "stdout",
          "text": [
            "{2, 3}\n"
          ]
        }
      ]
    },
    {
      "cell_type": "code",
      "source": [
        "# Create a dictionary with keys \"name\", \"age\", \"city\" and print it?\n",
        "\n",
        "peo = {'name': 'Abhishek', 'age':25 , 'city':\"delhi\"}\n",
        "print(peo)"
      ],
      "metadata": {
        "colab": {
          "base_uri": "https://localhost:8080/"
        },
        "id": "nH9H-fDG0Ss3",
        "outputId": "3a51c49d-c3ba-4bd7-ea7b-60e6a8491c98"
      },
      "execution_count": 54,
      "outputs": [
        {
          "output_type": "stream",
          "name": "stdout",
          "text": [
            "{'name': 'Abhishek', 'age': 25, 'city': 'delhi'}\n"
          ]
        }
      ]
    },
    {
      "cell_type": "code",
      "source": [
        "# Add \"country\": \"USA\" to dictionary {'name': 'John', 'age': 25}\n",
        "person = {'name': 'John', 'age': 25}\n",
        "person['country'] = 'usa'\n",
        "print(person)"
      ],
      "metadata": {
        "colab": {
          "base_uri": "https://localhost:8080/"
        },
        "id": "S-RpZB7r0uSl",
        "outputId": "4a8d9b2b-8131-4c03-d674-926b6b4684e5"
      },
      "execution_count": 57,
      "outputs": [
        {
          "output_type": "stream",
          "name": "stdout",
          "text": [
            "{'name': 'John', 'age': 25, 'country': 'usa'}\n"
          ]
        }
      ]
    },
    {
      "cell_type": "code",
      "source": [
        "# Access the value associated with \"name\" in {'name': 'Alice', 'age': 30}?\n",
        "d1 = {'name': 'Alice', 'age': 30}\n",
        "print(d1[\"name\"])"
      ],
      "metadata": {
        "colab": {
          "base_uri": "https://localhost:8080/"
        },
        "id": "vhpMgcQB1HrZ",
        "outputId": "d1b81cde-b7b2-4798-9771-7800a1afc02d"
      },
      "execution_count": 63,
      "outputs": [
        {
          "output_type": "stream",
          "name": "stdout",
          "text": [
            "Alice\n"
          ]
        }
      ]
    },
    {
      "cell_type": "code",
      "source": [
        "# Remove the key \"age\" from {'name': 'Bob', 'age': 22, 'city': 'New York'}?\n",
        "d2 = {'name': 'Bob', 'age': 22, 'city': 'New York'}\n",
        "d2.pop(\"age\")\n",
        "print(d2)"
      ],
      "metadata": {
        "colab": {
          "base_uri": "https://localhost:8080/"
        },
        "id": "ey7b-3YB1cxJ",
        "outputId": "f054546e-9be5-4a92-ca82-a797e1ba821a"
      },
      "execution_count": 66,
      "outputs": [
        {
          "output_type": "stream",
          "name": "stdout",
          "text": [
            "{'name': 'Bob', 'city': 'New York'}\n"
          ]
        }
      ]
    },
    {
      "cell_type": "code",
      "source": [
        "#  Check if \"city\" exists in {'name': 'Alice', 'city': 'Paris'}?\n",
        "d3 = {'name': 'Alice', 'city':'paris'}\n",
        "print(\"city\" in d2)"
      ],
      "metadata": {
        "colab": {
          "base_uri": "https://localhost:8080/"
        },
        "id": "J0VZvbbg2IAm",
        "outputId": "ef118fa6-772d-4a15-fbea-7b40d28e5a00"
      },
      "execution_count": 67,
      "outputs": [
        {
          "output_type": "stream",
          "name": "stdout",
          "text": [
            "True\n"
          ]
        }
      ]
    },
    {
      "cell_type": "code",
      "source": [
        "# Create a list, tuple, and dictionary and print them?\n",
        "d8 = [1, 2, 3, 4, 5]\n",
        "d9 = (1, 2, 3, 4, 5)\n",
        "d10 = {'name' : 'abhi'}\n",
        "print(d8)\n",
        "print(d9)\n",
        "print(d10)"
      ],
      "metadata": {
        "colab": {
          "base_uri": "https://localhost:8080/"
        },
        "id": "ZunlvdyH2s4x",
        "outputId": "7e810733-17b0-439e-b013-65b63ced7c64"
      },
      "execution_count": 70,
      "outputs": [
        {
          "output_type": "stream",
          "name": "stdout",
          "text": [
            "[1, 2, 3, 4, 5]\n",
            "(1, 2, 3, 4, 5)\n",
            "{'name': 'abhi'}\n"
          ]
        }
      ]
    },
    {
      "cell_type": "code",
      "source": [
        "# create a list of 5 random numbers (1–100), sort it, and print?\n",
        "import random\n",
        "ran_num = random.sample(range(1, 101), 5)\n",
        "ran_num.sort()\n",
        "print(ran_num)"
      ],
      "metadata": {
        "colab": {
          "base_uri": "https://localhost:8080/"
        },
        "id": "BRsLtxEB3AUI",
        "outputId": "989980b4-afb3-464c-86b0-34447763979b"
      },
      "execution_count": 75,
      "outputs": [
        {
          "output_type": "stream",
          "name": "stdout",
          "text": [
            "[1, 27, 31, 65, 76]\n"
          ]
        }
      ]
    },
    {
      "cell_type": "code",
      "source": [
        "# Create a list with strings and print the element at index 3\n",
        "Aj = [\"bike\", \"car\" , \"bus\", \"cycle\"]\n",
        "print(Aj[3])"
      ],
      "metadata": {
        "colab": {
          "base_uri": "https://localhost:8080/"
        },
        "id": "Icem9ALS3elg",
        "outputId": "a1d74837-8fed-40e4-9caf-8dae8af256ac"
      },
      "execution_count": 81,
      "outputs": [
        {
          "output_type": "stream",
          "name": "stdout",
          "text": [
            "cycle\n"
          ]
        }
      ]
    },
    {
      "cell_type": "code",
      "source": [],
      "metadata": {
        "id": "YqRCgrY439wI"
      },
      "execution_count": null,
      "outputs": []
    }
  ]
}